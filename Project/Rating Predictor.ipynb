{
 "cells": [
  {
   "cell_type": "code",
   "execution_count": 519,
   "metadata": {},
   "outputs": [
    {
     "name": "stderr",
     "output_type": "stream",
     "text": [
      "[nltk_data] Downloading package stopwords to\n",
      "[nltk_data]     C:\\Users\\ellio\\AppData\\Roaming\\nltk_data...\n",
      "[nltk_data]   Package stopwords is already up-to-date!\n",
      "[nltk_data] Downloading package wordnet to\n",
      "[nltk_data]     C:\\Users\\ellio\\AppData\\Roaming\\nltk_data...\n",
      "[nltk_data]   Package wordnet is already up-to-date!\n"
     ]
    },
    {
     "data": {
      "text/plain": [
       "True"
      ]
     },
     "execution_count": 519,
     "metadata": {},
     "output_type": "execute_result"
    }
   ],
   "source": [
    "import pandas as pd\n",
    "import numpy as np\n",
    "import nltk\n",
    "import string \n",
    "\n",
    "# Data splitting\n",
    "from sklearn.model_selection import train_test_split\n",
    "# Preprocessing/analysis\n",
    "from nltk.stem import WordNetLemmatizer, PorterStemmer\n",
    "from nltk.tokenize import RegexpTokenizer\n",
    "from nltk.corpus import stopwords\n",
    "from sklearn.feature_extraction.text import TfidfVectorizer\n",
    "\n",
    "from sklearn.linear_model import LogisticRegression\n",
    "from sklearn import linear_model\n",
    "nltk.download(\"stopwords\")\n",
    "nltk.download(\"wordnet\")\n"
   ]
  },
  {
   "cell_type": "markdown",
   "metadata": {},
   "source": [
    "# Importing Data"
   ]
  },
  {
   "cell_type": "code",
   "execution_count": 520,
   "metadata": {},
   "outputs": [
    {
     "data": {
      "text/html": [
       "<div>\n",
       "<style scoped>\n",
       "    .dataframe tbody tr th:only-of-type {\n",
       "        vertical-align: middle;\n",
       "    }\n",
       "\n",
       "    .dataframe tbody tr th {\n",
       "        vertical-align: top;\n",
       "    }\n",
       "\n",
       "    .dataframe thead th {\n",
       "        text-align: right;\n",
       "    }\n",
       "</style>\n",
       "<table border=\"1\" class=\"dataframe\">\n",
       "  <thead>\n",
       "    <tr style=\"text-align: right;\">\n",
       "      <th></th>\n",
       "      <th>product</th>\n",
       "      <th>title</th>\n",
       "      <th>rating</th>\n",
       "      <th>text_review</th>\n",
       "    </tr>\n",
       "  </thead>\n",
       "  <tbody>\n",
       "    <tr>\n",
       "      <th>0</th>\n",
       "      <td>Where the Crawdads Sing</td>\n",
       "      <td>I stopped reading</td>\n",
       "      <td>1.0</td>\n",
       "      <td>I managed to get halfway through this book. Th...</td>\n",
       "    </tr>\n",
       "    <tr>\n",
       "      <th>1</th>\n",
       "      <td>Where the Crawdads Sing</td>\n",
       "      <td>Stick With It</td>\n",
       "      <td>4.0</td>\n",
       "      <td>Gradually abandoned by her family and shunned ...</td>\n",
       "    </tr>\n",
       "    <tr>\n",
       "      <th>2</th>\n",
       "      <td>Where the Crawdads Sing</td>\n",
       "      <td>Boring about a girl walking through mud.</td>\n",
       "      <td>1.0</td>\n",
       "      <td>The blurb of this book suggest an interesting ...</td>\n",
       "    </tr>\n",
       "    <tr>\n",
       "      <th>3</th>\n",
       "      <td>Where the Crawdads Sing</td>\n",
       "      <td>The most amazing book</td>\n",
       "      <td>5.0</td>\n",
       "      <td>I was so looking forward to this book and I ha...</td>\n",
       "    </tr>\n",
       "    <tr>\n",
       "      <th>4</th>\n",
       "      <td>Where the Crawdads Sing</td>\n",
       "      <td>Croak, Croak</td>\n",
       "      <td>3.0</td>\n",
       "      <td>When a female friend I trust recommended this ...</td>\n",
       "    </tr>\n",
       "  </tbody>\n",
       "</table>\n",
       "</div>"
      ],
      "text/plain": [
       "                   product                                     title  rating  \\\n",
       "0  Where the Crawdads Sing                         I stopped reading     1.0   \n",
       "1  Where the Crawdads Sing                             Stick With It     4.0   \n",
       "2  Where the Crawdads Sing  Boring about a girl walking through mud.     1.0   \n",
       "3  Where the Crawdads Sing                     The most amazing book     5.0   \n",
       "4  Where the Crawdads Sing                              Croak, Croak     3.0   \n",
       "\n",
       "                                         text_review  \n",
       "0  I managed to get halfway through this book. Th...  \n",
       "1  Gradually abandoned by her family and shunned ...  \n",
       "2  The blurb of this book suggest an interesting ...  \n",
       "3  I was so looking forward to this book and I ha...  \n",
       "4  When a female friend I trust recommended this ...  "
      ]
     },
     "execution_count": 520,
     "metadata": {},
     "output_type": "execute_result"
    }
   ],
   "source": [
    "#Reading data\n",
    "df = pd.read_csv(\"where-the-crawdads-sing-book.csv\")\n",
    "df.head()"
   ]
  },
  {
   "cell_type": "code",
   "execution_count": 521,
   "metadata": {},
   "outputs": [
    {
     "data": {
      "text/plain": [
       "(3462, 4)"
      ]
     },
     "execution_count": 521,
     "metadata": {},
     "output_type": "execute_result"
    }
   ],
   "source": [
    "df.shape"
   ]
  },
  {
   "cell_type": "code",
   "execution_count": 522,
   "metadata": {},
   "outputs": [
    {
     "data": {
      "text/plain": [
       "5.0    2980\n",
       "4.0     270\n",
       "3.0      92\n",
       "1.0      66\n",
       "2.0      54\n",
       "Name: rating, dtype: int64"
      ]
     },
     "execution_count": 522,
     "metadata": {},
     "output_type": "execute_result"
    }
   ],
   "source": [
    "#Checking how many reviews of each there are\n",
    "df.rating.value_counts()"
   ]
  },
  {
   "cell_type": "code",
   "execution_count": 523,
   "metadata": {},
   "outputs": [
    {
     "data": {
      "text/plain": [
       "rating         False\n",
       "text_review    False\n",
       "dtype: bool"
      ]
     },
     "execution_count": 523,
     "metadata": {},
     "output_type": "execute_result"
    }
   ],
   "source": [
    "#Checking to see if there is any null data\n",
    "df[[\"rating\", \"text_review\"]].isnull().any()"
   ]
  },
  {
   "cell_type": "code",
   "execution_count": 524,
   "metadata": {},
   "outputs": [
    {
     "data": {
      "text/plain": [
       "True    3462\n",
       "Name: product, dtype: int64"
      ]
     },
     "execution_count": 524,
     "metadata": {},
     "output_type": "execute_result"
    }
   ],
   "source": [
    "#Checking all reviews match product and dropping col\n",
    "(df[\"product\"] != \"Where the Crawdads Sing \t\").value_counts()\n"
   ]
  },
  {
   "cell_type": "code",
   "execution_count": 525,
   "metadata": {},
   "outputs": [
    {
     "data": {
      "text/html": [
       "<div>\n",
       "<style scoped>\n",
       "    .dataframe tbody tr th:only-of-type {\n",
       "        vertical-align: middle;\n",
       "    }\n",
       "\n",
       "    .dataframe tbody tr th {\n",
       "        vertical-align: top;\n",
       "    }\n",
       "\n",
       "    .dataframe thead th {\n",
       "        text-align: right;\n",
       "    }\n",
       "</style>\n",
       "<table border=\"1\" class=\"dataframe\">\n",
       "  <thead>\n",
       "    <tr style=\"text-align: right;\">\n",
       "      <th></th>\n",
       "      <th>title</th>\n",
       "      <th>rating</th>\n",
       "      <th>text_review</th>\n",
       "    </tr>\n",
       "  </thead>\n",
       "  <tbody>\n",
       "    <tr>\n",
       "      <th>0</th>\n",
       "      <td>I stopped reading</td>\n",
       "      <td>1.0</td>\n",
       "      <td>I managed to get halfway through this book. Th...</td>\n",
       "    </tr>\n",
       "    <tr>\n",
       "      <th>1</th>\n",
       "      <td>Stick With It</td>\n",
       "      <td>4.0</td>\n",
       "      <td>Gradually abandoned by her family and shunned ...</td>\n",
       "    </tr>\n",
       "    <tr>\n",
       "      <th>2</th>\n",
       "      <td>Boring about a girl walking through mud.</td>\n",
       "      <td>1.0</td>\n",
       "      <td>The blurb of this book suggest an interesting ...</td>\n",
       "    </tr>\n",
       "    <tr>\n",
       "      <th>3</th>\n",
       "      <td>The most amazing book</td>\n",
       "      <td>5.0</td>\n",
       "      <td>I was so looking forward to this book and I ha...</td>\n",
       "    </tr>\n",
       "    <tr>\n",
       "      <th>4</th>\n",
       "      <td>Croak, Croak</td>\n",
       "      <td>3.0</td>\n",
       "      <td>When a female friend I trust recommended this ...</td>\n",
       "    </tr>\n",
       "  </tbody>\n",
       "</table>\n",
       "</div>"
      ],
      "text/plain": [
       "                                      title  rating  \\\n",
       "0                         I stopped reading     1.0   \n",
       "1                             Stick With It     4.0   \n",
       "2  Boring about a girl walking through mud.     1.0   \n",
       "3                     The most amazing book     5.0   \n",
       "4                              Croak, Croak     3.0   \n",
       "\n",
       "                                         text_review  \n",
       "0  I managed to get halfway through this book. Th...  \n",
       "1  Gradually abandoned by her family and shunned ...  \n",
       "2  The blurb of this book suggest an interesting ...  \n",
       "3  I was so looking forward to this book and I ha...  \n",
       "4  When a female friend I trust recommended this ...  "
      ]
     },
     "execution_count": 525,
     "metadata": {},
     "output_type": "execute_result"
    }
   ],
   "source": [
    "df.drop([\"product\"], axis=1, inplace=True)\n",
    "df.head()"
   ]
  },
  {
   "cell_type": "markdown",
   "metadata": {},
   "source": [
    "# Pre-Processing\n",
    "\n",
    "- Lowercasing\n",
    "- Remove special characters\n",
    "- Remove stop words\n",
    "- Stem words"
   ]
  },
  {
   "cell_type": "code",
   "execution_count": 526,
   "metadata": {},
   "outputs": [],
   "source": [
    "#Make column lower\n",
    "df[\"lower\"] = df[\"text_review\"].str.lower()"
   ]
  },
  {
   "cell_type": "code",
   "execution_count": 527,
   "metadata": {},
   "outputs": [
    {
     "data": {
      "text/html": [
       "<div>\n",
       "<style scoped>\n",
       "    .dataframe tbody tr th:only-of-type {\n",
       "        vertical-align: middle;\n",
       "    }\n",
       "\n",
       "    .dataframe tbody tr th {\n",
       "        vertical-align: top;\n",
       "    }\n",
       "\n",
       "    .dataframe thead th {\n",
       "        text-align: right;\n",
       "    }\n",
       "</style>\n",
       "<table border=\"1\" class=\"dataframe\">\n",
       "  <thead>\n",
       "    <tr style=\"text-align: right;\">\n",
       "      <th></th>\n",
       "      <th>title</th>\n",
       "      <th>rating</th>\n",
       "      <th>text_review</th>\n",
       "      <th>lower</th>\n",
       "    </tr>\n",
       "  </thead>\n",
       "  <tbody>\n",
       "    <tr>\n",
       "      <th>0</th>\n",
       "      <td>I stopped reading</td>\n",
       "      <td>1.0</td>\n",
       "      <td>I managed to get halfway through this book. Th...</td>\n",
       "      <td>i managed to get halfway through this book. th...</td>\n",
       "    </tr>\n",
       "    <tr>\n",
       "      <th>1</th>\n",
       "      <td>Stick With It</td>\n",
       "      <td>4.0</td>\n",
       "      <td>Gradually abandoned by her family and shunned ...</td>\n",
       "      <td>gradually abandoned by her family and shunned ...</td>\n",
       "    </tr>\n",
       "    <tr>\n",
       "      <th>2</th>\n",
       "      <td>Boring about a girl walking through mud.</td>\n",
       "      <td>1.0</td>\n",
       "      <td>The blurb of this book suggest an interesting ...</td>\n",
       "      <td>the blurb of this book suggest an interesting ...</td>\n",
       "    </tr>\n",
       "    <tr>\n",
       "      <th>3</th>\n",
       "      <td>The most amazing book</td>\n",
       "      <td>5.0</td>\n",
       "      <td>I was so looking forward to this book and I ha...</td>\n",
       "      <td>i was so looking forward to this book and i ha...</td>\n",
       "    </tr>\n",
       "    <tr>\n",
       "      <th>4</th>\n",
       "      <td>Croak, Croak</td>\n",
       "      <td>3.0</td>\n",
       "      <td>When a female friend I trust recommended this ...</td>\n",
       "      <td>when a female friend i trust recommended this ...</td>\n",
       "    </tr>\n",
       "  </tbody>\n",
       "</table>\n",
       "</div>"
      ],
      "text/plain": [
       "                                      title  rating  \\\n",
       "0                         I stopped reading     1.0   \n",
       "1                             Stick With It     4.0   \n",
       "2  Boring about a girl walking through mud.     1.0   \n",
       "3                     The most amazing book     5.0   \n",
       "4                              Croak, Croak     3.0   \n",
       "\n",
       "                                         text_review  \\\n",
       "0  I managed to get halfway through this book. Th...   \n",
       "1  Gradually abandoned by her family and shunned ...   \n",
       "2  The blurb of this book suggest an interesting ...   \n",
       "3  I was so looking forward to this book and I ha...   \n",
       "4  When a female friend I trust recommended this ...   \n",
       "\n",
       "                                               lower  \n",
       "0  i managed to get halfway through this book. th...  \n",
       "1  gradually abandoned by her family and shunned ...  \n",
       "2  the blurb of this book suggest an interesting ...  \n",
       "3  i was so looking forward to this book and i ha...  \n",
       "4  when a female friend i trust recommended this ...  "
      ]
     },
     "execution_count": 527,
     "metadata": {},
     "output_type": "execute_result"
    }
   ],
   "source": [
    "df.head()"
   ]
  },
  {
   "cell_type": "code",
   "execution_count": 528,
   "metadata": {},
   "outputs": [
    {
     "data": {
      "text/plain": [
       "['i',\n",
       " 'me',\n",
       " 'my',\n",
       " 'myself',\n",
       " 'we',\n",
       " 'our',\n",
       " 'ours',\n",
       " 'ourselves',\n",
       " 'you',\n",
       " \"you're\",\n",
       " \"you've\",\n",
       " \"you'll\",\n",
       " \"you'd\",\n",
       " 'your',\n",
       " 'yours',\n",
       " 'yourself',\n",
       " 'yourselves',\n",
       " 'he',\n",
       " 'him',\n",
       " 'his',\n",
       " 'himself',\n",
       " 'she',\n",
       " \"she's\",\n",
       " 'her',\n",
       " 'hers',\n",
       " 'herself',\n",
       " 'it',\n",
       " \"it's\",\n",
       " 'its',\n",
       " 'itself',\n",
       " 'they',\n",
       " 'them',\n",
       " 'their',\n",
       " 'theirs',\n",
       " 'themselves',\n",
       " 'what',\n",
       " 'which',\n",
       " 'who',\n",
       " 'whom',\n",
       " 'this',\n",
       " 'that',\n",
       " \"that'll\",\n",
       " 'these',\n",
       " 'those',\n",
       " 'am',\n",
       " 'is',\n",
       " 'are',\n",
       " 'was',\n",
       " 'were',\n",
       " 'be',\n",
       " 'been',\n",
       " 'being',\n",
       " 'have',\n",
       " 'has',\n",
       " 'had',\n",
       " 'having',\n",
       " 'do',\n",
       " 'does',\n",
       " 'did',\n",
       " 'doing',\n",
       " 'a',\n",
       " 'an',\n",
       " 'the',\n",
       " 'and',\n",
       " 'but',\n",
       " 'if',\n",
       " 'or',\n",
       " 'because',\n",
       " 'as',\n",
       " 'until',\n",
       " 'while',\n",
       " 'of',\n",
       " 'at',\n",
       " 'by',\n",
       " 'for',\n",
       " 'with',\n",
       " 'about',\n",
       " 'against',\n",
       " 'between',\n",
       " 'into',\n",
       " 'through',\n",
       " 'during',\n",
       " 'before',\n",
       " 'after',\n",
       " 'above',\n",
       " 'below',\n",
       " 'to',\n",
       " 'from',\n",
       " 'up',\n",
       " 'down',\n",
       " 'in',\n",
       " 'out',\n",
       " 'on',\n",
       " 'off',\n",
       " 'over',\n",
       " 'under',\n",
       " 'again',\n",
       " 'further',\n",
       " 'then',\n",
       " 'once',\n",
       " 'here',\n",
       " 'there',\n",
       " 'when',\n",
       " 'where',\n",
       " 'why',\n",
       " 'how',\n",
       " 'all',\n",
       " 'any',\n",
       " 'both',\n",
       " 'each',\n",
       " 'few',\n",
       " 'more',\n",
       " 'most',\n",
       " 'other',\n",
       " 'some',\n",
       " 'such',\n",
       " 'no',\n",
       " 'nor',\n",
       " 'not',\n",
       " 'only',\n",
       " 'own',\n",
       " 'same',\n",
       " 'so',\n",
       " 'than',\n",
       " 'too',\n",
       " 'very',\n",
       " 's',\n",
       " 't',\n",
       " 'can',\n",
       " 'will',\n",
       " 'just',\n",
       " 'don',\n",
       " \"don't\",\n",
       " 'should',\n",
       " \"should've\",\n",
       " 'now',\n",
       " 'd',\n",
       " 'll',\n",
       " 'm',\n",
       " 'o',\n",
       " 're',\n",
       " 've',\n",
       " 'y',\n",
       " 'ain',\n",
       " 'aren',\n",
       " \"aren't\",\n",
       " 'couldn',\n",
       " \"couldn't\",\n",
       " 'didn',\n",
       " \"didn't\",\n",
       " 'doesn',\n",
       " \"doesn't\",\n",
       " 'hadn',\n",
       " \"hadn't\",\n",
       " 'hasn',\n",
       " \"hasn't\",\n",
       " 'haven',\n",
       " \"haven't\",\n",
       " 'isn',\n",
       " \"isn't\",\n",
       " 'ma',\n",
       " 'mightn',\n",
       " \"mightn't\",\n",
       " 'mustn',\n",
       " \"mustn't\",\n",
       " 'needn',\n",
       " \"needn't\",\n",
       " 'shan',\n",
       " \"shan't\",\n",
       " 'shouldn',\n",
       " \"shouldn't\",\n",
       " 'wasn',\n",
       " \"wasn't\",\n",
       " 'weren',\n",
       " \"weren't\",\n",
       " 'won',\n",
       " \"won't\",\n",
       " 'wouldn',\n",
       " \"wouldn't\"]"
      ]
     },
     "execution_count": 528,
     "metadata": {},
     "output_type": "execute_result"
    }
   ],
   "source": [
    "#Make variable and check stopwords\n",
    "stop_words = stopwords.words(\"english\")\n",
    "stop_words"
   ]
  },
  {
   "cell_type": "code",
   "execution_count": 529,
   "metadata": {},
   "outputs": [],
   "source": [
    "#Remove punc\n",
    "df[\"no_punc\"] = df[\"lower\"].str.replace(\"[^\\w\\s]\", \"\")"
   ]
  },
  {
   "cell_type": "code",
   "execution_count": 530,
   "metadata": {},
   "outputs": [
    {
     "data": {
      "text/plain": [
       "False"
      ]
     },
     "execution_count": 530,
     "metadata": {},
     "output_type": "execute_result"
    }
   ],
   "source": [
    "str.punctuation in df[\"no_punc\"]"
   ]
  },
  {
   "cell_type": "code",
   "execution_count": 531,
   "metadata": {},
   "outputs": [],
   "source": [
    "#Removing numbers\n",
    "df[\"remove_numbers\"] = df[\"no_punc\"].str.replace(\"\\d+\", \"\")"
   ]
  },
  {
   "cell_type": "code",
   "execution_count": 532,
   "metadata": {},
   "outputs": [],
   "source": [
    "#Tokenise\n",
    "df[\"tokenise\"] = [word_tokenize(word) for word in df[\"remove_numbers\"]]"
   ]
  },
  {
   "cell_type": "code",
   "execution_count": 533,
   "metadata": {},
   "outputs": [
    {
     "data": {
      "text/html": [
       "<div>\n",
       "<style scoped>\n",
       "    .dataframe tbody tr th:only-of-type {\n",
       "        vertical-align: middle;\n",
       "    }\n",
       "\n",
       "    .dataframe tbody tr th {\n",
       "        vertical-align: top;\n",
       "    }\n",
       "\n",
       "    .dataframe thead th {\n",
       "        text-align: right;\n",
       "    }\n",
       "</style>\n",
       "<table border=\"1\" class=\"dataframe\">\n",
       "  <thead>\n",
       "    <tr style=\"text-align: right;\">\n",
       "      <th></th>\n",
       "      <th>title</th>\n",
       "      <th>rating</th>\n",
       "      <th>text_review</th>\n",
       "      <th>lower</th>\n",
       "      <th>no_punc</th>\n",
       "      <th>remove_numbers</th>\n",
       "      <th>tokenise</th>\n",
       "    </tr>\n",
       "  </thead>\n",
       "  <tbody>\n",
       "    <tr>\n",
       "      <th>0</th>\n",
       "      <td>I stopped reading</td>\n",
       "      <td>1.0</td>\n",
       "      <td>I managed to get halfway through this book. Th...</td>\n",
       "      <td>i managed to get halfway through this book. th...</td>\n",
       "      <td>i managed to get halfway through this book tho...</td>\n",
       "      <td>i managed to get halfway through this book tho...</td>\n",
       "      <td>[i, managed, to, get, halfway, through, this, ...</td>\n",
       "    </tr>\n",
       "    <tr>\n",
       "      <th>1</th>\n",
       "      <td>Stick With It</td>\n",
       "      <td>4.0</td>\n",
       "      <td>Gradually abandoned by her family and shunned ...</td>\n",
       "      <td>gradually abandoned by her family and shunned ...</td>\n",
       "      <td>gradually abandoned by her family and shunned ...</td>\n",
       "      <td>gradually abandoned by her family and shunned ...</td>\n",
       "      <td>[gradually, abandoned, by, her, family, and, s...</td>\n",
       "    </tr>\n",
       "    <tr>\n",
       "      <th>2</th>\n",
       "      <td>Boring about a girl walking through mud.</td>\n",
       "      <td>1.0</td>\n",
       "      <td>The blurb of this book suggest an interesting ...</td>\n",
       "      <td>the blurb of this book suggest an interesting ...</td>\n",
       "      <td>the blurb of this book suggest an interesting ...</td>\n",
       "      <td>the blurb of this book suggest an interesting ...</td>\n",
       "      <td>[the, blurb, of, this, book, suggest, an, inte...</td>\n",
       "    </tr>\n",
       "    <tr>\n",
       "      <th>3</th>\n",
       "      <td>The most amazing book</td>\n",
       "      <td>5.0</td>\n",
       "      <td>I was so looking forward to this book and I ha...</td>\n",
       "      <td>i was so looking forward to this book and i ha...</td>\n",
       "      <td>i was so looking forward to this book and i ha...</td>\n",
       "      <td>i was so looking forward to this book and i ha...</td>\n",
       "      <td>[i, was, so, looking, forward, to, this, book,...</td>\n",
       "    </tr>\n",
       "    <tr>\n",
       "      <th>4</th>\n",
       "      <td>Croak, Croak</td>\n",
       "      <td>3.0</td>\n",
       "      <td>When a female friend I trust recommended this ...</td>\n",
       "      <td>when a female friend i trust recommended this ...</td>\n",
       "      <td>when a female friend i trust recommended this ...</td>\n",
       "      <td>when a female friend i trust recommended this ...</td>\n",
       "      <td>[when, a, female, friend, i, trust, recommende...</td>\n",
       "    </tr>\n",
       "  </tbody>\n",
       "</table>\n",
       "</div>"
      ],
      "text/plain": [
       "                                      title  rating  \\\n",
       "0                         I stopped reading     1.0   \n",
       "1                             Stick With It     4.0   \n",
       "2  Boring about a girl walking through mud.     1.0   \n",
       "3                     The most amazing book     5.0   \n",
       "4                              Croak, Croak     3.0   \n",
       "\n",
       "                                         text_review  \\\n",
       "0  I managed to get halfway through this book. Th...   \n",
       "1  Gradually abandoned by her family and shunned ...   \n",
       "2  The blurb of this book suggest an interesting ...   \n",
       "3  I was so looking forward to this book and I ha...   \n",
       "4  When a female friend I trust recommended this ...   \n",
       "\n",
       "                                               lower  \\\n",
       "0  i managed to get halfway through this book. th...   \n",
       "1  gradually abandoned by her family and shunned ...   \n",
       "2  the blurb of this book suggest an interesting ...   \n",
       "3  i was so looking forward to this book and i ha...   \n",
       "4  when a female friend i trust recommended this ...   \n",
       "\n",
       "                                             no_punc  \\\n",
       "0  i managed to get halfway through this book tho...   \n",
       "1  gradually abandoned by her family and shunned ...   \n",
       "2  the blurb of this book suggest an interesting ...   \n",
       "3  i was so looking forward to this book and i ha...   \n",
       "4  when a female friend i trust recommended this ...   \n",
       "\n",
       "                                      remove_numbers  \\\n",
       "0  i managed to get halfway through this book tho...   \n",
       "1  gradually abandoned by her family and shunned ...   \n",
       "2  the blurb of this book suggest an interesting ...   \n",
       "3  i was so looking forward to this book and i ha...   \n",
       "4  when a female friend i trust recommended this ...   \n",
       "\n",
       "                                            tokenise  \n",
       "0  [i, managed, to, get, halfway, through, this, ...  \n",
       "1  [gradually, abandoned, by, her, family, and, s...  \n",
       "2  [the, blurb, of, this, book, suggest, an, inte...  \n",
       "3  [i, was, so, looking, forward, to, this, book,...  \n",
       "4  [when, a, female, friend, i, trust, recommende...  "
      ]
     },
     "execution_count": 533,
     "metadata": {},
     "output_type": "execute_result"
    }
   ],
   "source": [
    "df.head()"
   ]
  },
  {
   "cell_type": "code",
   "execution_count": 534,
   "metadata": {},
   "outputs": [
    {
     "data": {
      "text/html": [
       "<div>\n",
       "<style scoped>\n",
       "    .dataframe tbody tr th:only-of-type {\n",
       "        vertical-align: middle;\n",
       "    }\n",
       "\n",
       "    .dataframe tbody tr th {\n",
       "        vertical-align: top;\n",
       "    }\n",
       "\n",
       "    .dataframe thead th {\n",
       "        text-align: right;\n",
       "    }\n",
       "</style>\n",
       "<table border=\"1\" class=\"dataframe\">\n",
       "  <thead>\n",
       "    <tr style=\"text-align: right;\">\n",
       "      <th></th>\n",
       "      <th>title</th>\n",
       "      <th>rating</th>\n",
       "      <th>text_review</th>\n",
       "      <th>tokenise</th>\n",
       "    </tr>\n",
       "  </thead>\n",
       "  <tbody>\n",
       "    <tr>\n",
       "      <th>0</th>\n",
       "      <td>I stopped reading</td>\n",
       "      <td>1.0</td>\n",
       "      <td>I managed to get halfway through this book. Th...</td>\n",
       "      <td>[i, managed, to, get, halfway, through, this, ...</td>\n",
       "    </tr>\n",
       "    <tr>\n",
       "      <th>1</th>\n",
       "      <td>Stick With It</td>\n",
       "      <td>4.0</td>\n",
       "      <td>Gradually abandoned by her family and shunned ...</td>\n",
       "      <td>[gradually, abandoned, by, her, family, and, s...</td>\n",
       "    </tr>\n",
       "    <tr>\n",
       "      <th>2</th>\n",
       "      <td>Boring about a girl walking through mud.</td>\n",
       "      <td>1.0</td>\n",
       "      <td>The blurb of this book suggest an interesting ...</td>\n",
       "      <td>[the, blurb, of, this, book, suggest, an, inte...</td>\n",
       "    </tr>\n",
       "    <tr>\n",
       "      <th>3</th>\n",
       "      <td>The most amazing book</td>\n",
       "      <td>5.0</td>\n",
       "      <td>I was so looking forward to this book and I ha...</td>\n",
       "      <td>[i, was, so, looking, forward, to, this, book,...</td>\n",
       "    </tr>\n",
       "    <tr>\n",
       "      <th>4</th>\n",
       "      <td>Croak, Croak</td>\n",
       "      <td>3.0</td>\n",
       "      <td>When a female friend I trust recommended this ...</td>\n",
       "      <td>[when, a, female, friend, i, trust, recommende...</td>\n",
       "    </tr>\n",
       "  </tbody>\n",
       "</table>\n",
       "</div>"
      ],
      "text/plain": [
       "                                      title  rating  \\\n",
       "0                         I stopped reading     1.0   \n",
       "1                             Stick With It     4.0   \n",
       "2  Boring about a girl walking through mud.     1.0   \n",
       "3                     The most amazing book     5.0   \n",
       "4                              Croak, Croak     3.0   \n",
       "\n",
       "                                         text_review  \\\n",
       "0  I managed to get halfway through this book. Th...   \n",
       "1  Gradually abandoned by her family and shunned ...   \n",
       "2  The blurb of this book suggest an interesting ...   \n",
       "3  I was so looking forward to this book and I ha...   \n",
       "4  When a female friend I trust recommended this ...   \n",
       "\n",
       "                                            tokenise  \n",
       "0  [i, managed, to, get, halfway, through, this, ...  \n",
       "1  [gradually, abandoned, by, her, family, and, s...  \n",
       "2  [the, blurb, of, this, book, suggest, an, inte...  \n",
       "3  [i, was, so, looking, forward, to, this, book,...  \n",
       "4  [when, a, female, friend, i, trust, recommende...  "
      ]
     },
     "execution_count": 534,
     "metadata": {},
     "output_type": "execute_result"
    }
   ],
   "source": [
    "#Dropping extra columns that won't be needed\n",
    "df.drop([\"lower\", \"no_punc\", \"remove_numbers\",], axis=1, inplace=True)\n",
    "df.head()"
   ]
  },
  {
   "cell_type": "code",
   "execution_count": 535,
   "metadata": {},
   "outputs": [],
   "source": [
    "#Function to remove stopwords from tokenised column\n",
    "def remove_stopwords(tokenised_text):\n",
    "    cleaned_text = [word for word in tokenised_text if word not in stop_words]\n",
    "    return cleaned_text"
   ]
  },
  {
   "cell_type": "code",
   "execution_count": 536,
   "metadata": {},
   "outputs": [],
   "source": [
    "df[\"no_stopwords\"] = df[\"tokenise\"].apply(lambda x: remove_stopwords(x))"
   ]
  },
  {
   "cell_type": "code",
   "execution_count": 537,
   "metadata": {},
   "outputs": [
    {
     "data": {
      "text/plain": [
       "0    [managed, get, halfway, book, thought, somewha...\n",
       "1    [gradually, abandoned, family, shunned, locals...\n",
       "2    [blurb, book, suggest, interesting, crime, thr...\n",
       "3    [looking, forward, book, say, didnt, disappoin...\n",
       "4    [female, friend, trust, recommended, book, dow...\n",
       "Name: no_stopwords, dtype: object"
      ]
     },
     "execution_count": 537,
     "metadata": {},
     "output_type": "execute_result"
    }
   ],
   "source": [
    "#Checking to see stopwords have been removed\n",
    "df[\"no_stopwords\"].head()"
   ]
  },
  {
   "cell_type": "code",
   "execution_count": 538,
   "metadata": {},
   "outputs": [
    {
     "data": {
      "text/html": [
       "<div>\n",
       "<style scoped>\n",
       "    .dataframe tbody tr th:only-of-type {\n",
       "        vertical-align: middle;\n",
       "    }\n",
       "\n",
       "    .dataframe tbody tr th {\n",
       "        vertical-align: top;\n",
       "    }\n",
       "\n",
       "    .dataframe thead th {\n",
       "        text-align: right;\n",
       "    }\n",
       "</style>\n",
       "<table border=\"1\" class=\"dataframe\">\n",
       "  <thead>\n",
       "    <tr style=\"text-align: right;\">\n",
       "      <th></th>\n",
       "      <th>title</th>\n",
       "      <th>rating</th>\n",
       "      <th>text_review</th>\n",
       "      <th>tokenise</th>\n",
       "      <th>no_stopwords</th>\n",
       "    </tr>\n",
       "  </thead>\n",
       "  <tbody>\n",
       "    <tr>\n",
       "      <th>0</th>\n",
       "      <td>I stopped reading</td>\n",
       "      <td>1.0</td>\n",
       "      <td>I managed to get halfway through this book. Th...</td>\n",
       "      <td>[i, managed, to, get, halfway, through, this, ...</td>\n",
       "      <td>[managed, get, halfway, book, thought, somewha...</td>\n",
       "    </tr>\n",
       "    <tr>\n",
       "      <th>1</th>\n",
       "      <td>Stick With It</td>\n",
       "      <td>4.0</td>\n",
       "      <td>Gradually abandoned by her family and shunned ...</td>\n",
       "      <td>[gradually, abandoned, by, her, family, and, s...</td>\n",
       "      <td>[gradually, abandoned, family, shunned, locals...</td>\n",
       "    </tr>\n",
       "    <tr>\n",
       "      <th>2</th>\n",
       "      <td>Boring about a girl walking through mud.</td>\n",
       "      <td>1.0</td>\n",
       "      <td>The blurb of this book suggest an interesting ...</td>\n",
       "      <td>[the, blurb, of, this, book, suggest, an, inte...</td>\n",
       "      <td>[blurb, book, suggest, interesting, crime, thr...</td>\n",
       "    </tr>\n",
       "    <tr>\n",
       "      <th>3</th>\n",
       "      <td>The most amazing book</td>\n",
       "      <td>5.0</td>\n",
       "      <td>I was so looking forward to this book and I ha...</td>\n",
       "      <td>[i, was, so, looking, forward, to, this, book,...</td>\n",
       "      <td>[looking, forward, book, say, didnt, disappoin...</td>\n",
       "    </tr>\n",
       "    <tr>\n",
       "      <th>4</th>\n",
       "      <td>Croak, Croak</td>\n",
       "      <td>3.0</td>\n",
       "      <td>When a female friend I trust recommended this ...</td>\n",
       "      <td>[when, a, female, friend, i, trust, recommende...</td>\n",
       "      <td>[female, friend, trust, recommended, book, dow...</td>\n",
       "    </tr>\n",
       "  </tbody>\n",
       "</table>\n",
       "</div>"
      ],
      "text/plain": [
       "                                      title  rating  \\\n",
       "0                         I stopped reading     1.0   \n",
       "1                             Stick With It     4.0   \n",
       "2  Boring about a girl walking through mud.     1.0   \n",
       "3                     The most amazing book     5.0   \n",
       "4                              Croak, Croak     3.0   \n",
       "\n",
       "                                         text_review  \\\n",
       "0  I managed to get halfway through this book. Th...   \n",
       "1  Gradually abandoned by her family and shunned ...   \n",
       "2  The blurb of this book suggest an interesting ...   \n",
       "3  I was so looking forward to this book and I ha...   \n",
       "4  When a female friend I trust recommended this ...   \n",
       "\n",
       "                                            tokenise  \\\n",
       "0  [i, managed, to, get, halfway, through, this, ...   \n",
       "1  [gradually, abandoned, by, her, family, and, s...   \n",
       "2  [the, blurb, of, this, book, suggest, an, inte...   \n",
       "3  [i, was, so, looking, forward, to, this, book,...   \n",
       "4  [when, a, female, friend, i, trust, recommende...   \n",
       "\n",
       "                                        no_stopwords  \n",
       "0  [managed, get, halfway, book, thought, somewha...  \n",
       "1  [gradually, abandoned, family, shunned, locals...  \n",
       "2  [blurb, book, suggest, interesting, crime, thr...  \n",
       "3  [looking, forward, book, say, didnt, disappoin...  \n",
       "4  [female, friend, trust, recommended, book, dow...  "
      ]
     },
     "execution_count": 538,
     "metadata": {},
     "output_type": "execute_result"
    }
   ],
   "source": [
    "df.head()"
   ]
  },
  {
   "cell_type": "code",
   "execution_count": 539,
   "metadata": {},
   "outputs": [],
   "source": [
    "#Dropping tokenised column \n",
    "df.drop([\"tokenise\"], axis=1, inplace=True)"
   ]
  },
  {
   "cell_type": "code",
   "execution_count": 540,
   "metadata": {},
   "outputs": [],
   "source": [
    "#Stemming the words\n",
    "ps = PorterStemmer()"
   ]
  },
  {
   "cell_type": "code",
   "execution_count": 541,
   "metadata": {},
   "outputs": [],
   "source": [
    "def stem(text):\n",
    "    stem_text = [ps.stem(word) for word in text]\n",
    "    return stem_text"
   ]
  },
  {
   "cell_type": "code",
   "execution_count": 542,
   "metadata": {},
   "outputs": [],
   "source": [
    "df[\"stem_review\"] = df[\"no_stopwords\"].apply(lambda x: stem(x))"
   ]
  },
  {
   "cell_type": "code",
   "execution_count": 543,
   "metadata": {},
   "outputs": [
    {
     "data": {
      "text/plain": [
       "0    [manag, get, halfway, book, thought, somewhat,...\n",
       "1    [gradual, abandon, famili, shun, local, barkle...\n",
       "2    [blurb, book, suggest, interest, crime, thrill...\n",
       "3    [look, forward, book, say, didnt, disappoint, ...\n",
       "4    [femal, friend, trust, recommend, book, downlo...\n",
       "Name: stem_review, dtype: object"
      ]
     },
     "execution_count": 543,
     "metadata": {},
     "output_type": "execute_result"
    }
   ],
   "source": [
    "df[\"stem_review\"].head()"
   ]
  },
  {
   "cell_type": "code",
   "execution_count": 544,
   "metadata": {},
   "outputs": [
    {
     "data": {
      "text/html": [
       "<div>\n",
       "<style scoped>\n",
       "    .dataframe tbody tr th:only-of-type {\n",
       "        vertical-align: middle;\n",
       "    }\n",
       "\n",
       "    .dataframe tbody tr th {\n",
       "        vertical-align: top;\n",
       "    }\n",
       "\n",
       "    .dataframe thead th {\n",
       "        text-align: right;\n",
       "    }\n",
       "</style>\n",
       "<table border=\"1\" class=\"dataframe\">\n",
       "  <thead>\n",
       "    <tr style=\"text-align: right;\">\n",
       "      <th></th>\n",
       "      <th>title</th>\n",
       "      <th>rating</th>\n",
       "      <th>text_review</th>\n",
       "      <th>no_stopwords</th>\n",
       "      <th>stem_review</th>\n",
       "    </tr>\n",
       "  </thead>\n",
       "  <tbody>\n",
       "    <tr>\n",
       "      <th>0</th>\n",
       "      <td>I stopped reading</td>\n",
       "      <td>1.0</td>\n",
       "      <td>I managed to get halfway through this book. Th...</td>\n",
       "      <td>[managed, get, halfway, book, thought, somewha...</td>\n",
       "      <td>[manag, get, halfway, book, thought, somewhat,...</td>\n",
       "    </tr>\n",
       "    <tr>\n",
       "      <th>1</th>\n",
       "      <td>Stick With It</td>\n",
       "      <td>4.0</td>\n",
       "      <td>Gradually abandoned by her family and shunned ...</td>\n",
       "      <td>[gradually, abandoned, family, shunned, locals...</td>\n",
       "      <td>[gradual, abandon, famili, shun, local, barkle...</td>\n",
       "    </tr>\n",
       "    <tr>\n",
       "      <th>2</th>\n",
       "      <td>Boring about a girl walking through mud.</td>\n",
       "      <td>1.0</td>\n",
       "      <td>The blurb of this book suggest an interesting ...</td>\n",
       "      <td>[blurb, book, suggest, interesting, crime, thr...</td>\n",
       "      <td>[blurb, book, suggest, interest, crime, thrill...</td>\n",
       "    </tr>\n",
       "    <tr>\n",
       "      <th>3</th>\n",
       "      <td>The most amazing book</td>\n",
       "      <td>5.0</td>\n",
       "      <td>I was so looking forward to this book and I ha...</td>\n",
       "      <td>[looking, forward, book, say, didnt, disappoin...</td>\n",
       "      <td>[look, forward, book, say, didnt, disappoint, ...</td>\n",
       "    </tr>\n",
       "    <tr>\n",
       "      <th>4</th>\n",
       "      <td>Croak, Croak</td>\n",
       "      <td>3.0</td>\n",
       "      <td>When a female friend I trust recommended this ...</td>\n",
       "      <td>[female, friend, trust, recommended, book, dow...</td>\n",
       "      <td>[femal, friend, trust, recommend, book, downlo...</td>\n",
       "    </tr>\n",
       "  </tbody>\n",
       "</table>\n",
       "</div>"
      ],
      "text/plain": [
       "                                      title  rating  \\\n",
       "0                         I stopped reading     1.0   \n",
       "1                             Stick With It     4.0   \n",
       "2  Boring about a girl walking through mud.     1.0   \n",
       "3                     The most amazing book     5.0   \n",
       "4                              Croak, Croak     3.0   \n",
       "\n",
       "                                         text_review  \\\n",
       "0  I managed to get halfway through this book. Th...   \n",
       "1  Gradually abandoned by her family and shunned ...   \n",
       "2  The blurb of this book suggest an interesting ...   \n",
       "3  I was so looking forward to this book and I ha...   \n",
       "4  When a female friend I trust recommended this ...   \n",
       "\n",
       "                                        no_stopwords  \\\n",
       "0  [managed, get, halfway, book, thought, somewha...   \n",
       "1  [gradually, abandoned, family, shunned, locals...   \n",
       "2  [blurb, book, suggest, interesting, crime, thr...   \n",
       "3  [looking, forward, book, say, didnt, disappoin...   \n",
       "4  [female, friend, trust, recommended, book, dow...   \n",
       "\n",
       "                                         stem_review  \n",
       "0  [manag, get, halfway, book, thought, somewhat,...  \n",
       "1  [gradual, abandon, famili, shun, local, barkle...  \n",
       "2  [blurb, book, suggest, interest, crime, thrill...  \n",
       "3  [look, forward, book, say, didnt, disappoint, ...  \n",
       "4  [femal, friend, trust, recommend, book, downlo...  "
      ]
     },
     "execution_count": 544,
     "metadata": {},
     "output_type": "execute_result"
    }
   ],
   "source": [
    "df.head()"
   ]
  },
  {
   "cell_type": "code",
   "execution_count": 545,
   "metadata": {},
   "outputs": [],
   "source": [
    "#Dropping all columns apart from rating and stemmed reviews\n",
    "df.drop([\"title\",], axis=1, inplace=True)"
   ]
  },
  {
   "cell_type": "code",
   "execution_count": 546,
   "metadata": {},
   "outputs": [
    {
     "data": {
      "text/html": [
       "<div>\n",
       "<style scoped>\n",
       "    .dataframe tbody tr th:only-of-type {\n",
       "        vertical-align: middle;\n",
       "    }\n",
       "\n",
       "    .dataframe tbody tr th {\n",
       "        vertical-align: top;\n",
       "    }\n",
       "\n",
       "    .dataframe thead th {\n",
       "        text-align: right;\n",
       "    }\n",
       "</style>\n",
       "<table border=\"1\" class=\"dataframe\">\n",
       "  <thead>\n",
       "    <tr style=\"text-align: right;\">\n",
       "      <th></th>\n",
       "      <th>rating</th>\n",
       "      <th>text_review</th>\n",
       "      <th>no_stopwords</th>\n",
       "      <th>stem_review</th>\n",
       "    </tr>\n",
       "  </thead>\n",
       "  <tbody>\n",
       "    <tr>\n",
       "      <th>0</th>\n",
       "      <td>1.0</td>\n",
       "      <td>I managed to get halfway through this book. Th...</td>\n",
       "      <td>[managed, get, halfway, book, thought, somewha...</td>\n",
       "      <td>[manag, get, halfway, book, thought, somewhat,...</td>\n",
       "    </tr>\n",
       "    <tr>\n",
       "      <th>1</th>\n",
       "      <td>4.0</td>\n",
       "      <td>Gradually abandoned by her family and shunned ...</td>\n",
       "      <td>[gradually, abandoned, family, shunned, locals...</td>\n",
       "      <td>[gradual, abandon, famili, shun, local, barkle...</td>\n",
       "    </tr>\n",
       "    <tr>\n",
       "      <th>2</th>\n",
       "      <td>1.0</td>\n",
       "      <td>The blurb of this book suggest an interesting ...</td>\n",
       "      <td>[blurb, book, suggest, interesting, crime, thr...</td>\n",
       "      <td>[blurb, book, suggest, interest, crime, thrill...</td>\n",
       "    </tr>\n",
       "    <tr>\n",
       "      <th>3</th>\n",
       "      <td>5.0</td>\n",
       "      <td>I was so looking forward to this book and I ha...</td>\n",
       "      <td>[looking, forward, book, say, didnt, disappoin...</td>\n",
       "      <td>[look, forward, book, say, didnt, disappoint, ...</td>\n",
       "    </tr>\n",
       "    <tr>\n",
       "      <th>4</th>\n",
       "      <td>3.0</td>\n",
       "      <td>When a female friend I trust recommended this ...</td>\n",
       "      <td>[female, friend, trust, recommended, book, dow...</td>\n",
       "      <td>[femal, friend, trust, recommend, book, downlo...</td>\n",
       "    </tr>\n",
       "  </tbody>\n",
       "</table>\n",
       "</div>"
      ],
      "text/plain": [
       "   rating                                        text_review  \\\n",
       "0     1.0  I managed to get halfway through this book. Th...   \n",
       "1     4.0  Gradually abandoned by her family and shunned ...   \n",
       "2     1.0  The blurb of this book suggest an interesting ...   \n",
       "3     5.0  I was so looking forward to this book and I ha...   \n",
       "4     3.0  When a female friend I trust recommended this ...   \n",
       "\n",
       "                                        no_stopwords  \\\n",
       "0  [managed, get, halfway, book, thought, somewha...   \n",
       "1  [gradually, abandoned, family, shunned, locals...   \n",
       "2  [blurb, book, suggest, interesting, crime, thr...   \n",
       "3  [looking, forward, book, say, didnt, disappoin...   \n",
       "4  [female, friend, trust, recommended, book, dow...   \n",
       "\n",
       "                                         stem_review  \n",
       "0  [manag, get, halfway, book, thought, somewhat,...  \n",
       "1  [gradual, abandon, famili, shun, local, barkle...  \n",
       "2  [blurb, book, suggest, interest, crime, thrill...  \n",
       "3  [look, forward, book, say, didnt, disappoint, ...  \n",
       "4  [femal, friend, trust, recommend, book, downlo...  "
      ]
     },
     "execution_count": 546,
     "metadata": {},
     "output_type": "execute_result"
    }
   ],
   "source": [
    "df.head()"
   ]
  },
  {
   "cell_type": "markdown",
   "metadata": {},
   "source": [
    "# Splitting Dataset and Modelling\n",
    "\n",
    "I will be useing tfidf vectoriser before splitting the dataset.\n",
    "Then I will be using Logistic Regression at first. Then, if needed explore some other models."
   ]
  },
  {
   "cell_type": "code",
   "execution_count": 547,
   "metadata": {},
   "outputs": [],
   "source": [
    "#Making list into string so I can vectorise\n",
    "df[\"test\"] = df[\"stem_review\"].apply(\" \".join)"
   ]
  },
  {
   "cell_type": "code",
   "execution_count": 548,
   "metadata": {},
   "outputs": [],
   "source": [
    "#Using tfidf vect\n",
    "tfidf_vect = TfidfVectorizer(max_features=5000)"
   ]
  },
  {
   "cell_type": "code",
   "execution_count": 549,
   "metadata": {},
   "outputs": [],
   "source": [
    "#Splitting X and Y data\n",
    "X = df[\"test\"]\n",
    "y = df[\"rating\"]"
   ]
  },
  {
   "cell_type": "code",
   "execution_count": 550,
   "metadata": {},
   "outputs": [],
   "source": [
    "#Tfidf vect variable\n",
    "X = tfidf_vect.fit_transform(X)"
   ]
  },
  {
   "cell_type": "code",
   "execution_count": 551,
   "metadata": {},
   "outputs": [
    {
     "data": {
      "text/plain": [
       "<3462x5000 sparse matrix of type '<class 'numpy.float64'>'\n",
       "\twith 63979 stored elements in Compressed Sparse Row format>"
      ]
     },
     "execution_count": 551,
     "metadata": {},
     "output_type": "execute_result"
    }
   ],
   "source": [
    "#Checking data type\n",
    "X"
   ]
  },
  {
   "cell_type": "code",
   "execution_count": 552,
   "metadata": {},
   "outputs": [],
   "source": [
    "#Splitting dataset into test and train\n",
    "X_train, X_test, y_train, y_test = train_test_split(X, y, test_size = 0.2, random_state = 0)"
   ]
  },
  {
   "cell_type": "code",
   "execution_count": 553,
   "metadata": {},
   "outputs": [
    {
     "data": {
      "text/plain": [
       "(2769, 5000)"
      ]
     },
     "execution_count": 553,
     "metadata": {},
     "output_type": "execute_result"
    }
   ],
   "source": [
    "X_train.shape"
   ]
  },
  {
   "cell_type": "code",
   "execution_count": 554,
   "metadata": {},
   "outputs": [
    {
     "data": {
      "text/plain": [
       "(693, 5000)"
      ]
     },
     "execution_count": 554,
     "metadata": {},
     "output_type": "execute_result"
    }
   ],
   "source": [
    "X_test.shape"
   ]
  },
  {
   "cell_type": "code",
   "execution_count": 555,
   "metadata": {},
   "outputs": [],
   "source": [
    "#Implementing Logistic Regression Model\n",
    "log_model = LogisticRegression()"
   ]
  },
  {
   "cell_type": "code",
   "execution_count": 556,
   "metadata": {},
   "outputs": [],
   "source": [
    "log_model = log_model.fit(X=X_train, y=y_train)"
   ]
  },
  {
   "cell_type": "code",
   "execution_count": 557,
   "metadata": {},
   "outputs": [],
   "source": [
    "y_pred = log_model.predict(X_train)"
   ]
  },
  {
   "cell_type": "code",
   "execution_count": 558,
   "metadata": {},
   "outputs": [],
   "source": [
    "series_y_pred = pd.Series(y_pred)"
   ]
  },
  {
   "cell_type": "code",
   "execution_count": 559,
   "metadata": {},
   "outputs": [
    {
     "data": {
      "text/plain": [
       "5.0    2743\n",
       "4.0      23\n",
       "3.0       3\n",
       "dtype: int64"
      ]
     },
     "execution_count": 559,
     "metadata": {},
     "output_type": "execute_result"
    }
   ],
   "source": [
    "series_y_pred.value_counts()"
   ]
  },
  {
   "cell_type": "markdown",
   "metadata": {},
   "source": [
    "Model is far off from actual values and is mostly predicting 5 star ratings."
   ]
  },
  {
   "cell_type": "code",
   "execution_count": 560,
   "metadata": {},
   "outputs": [
    {
     "data": {
      "text/plain": [
       "5.0    2387\n",
       "4.0     218\n",
       "3.0      75\n",
       "1.0      48\n",
       "2.0      41\n",
       "Name: rating, dtype: int64"
      ]
     },
     "execution_count": 560,
     "metadata": {},
     "output_type": "execute_result"
    }
   ],
   "source": [
    "y_train.value_counts()"
   ]
  },
  {
   "cell_type": "code",
   "execution_count": 561,
   "metadata": {},
   "outputs": [
    {
     "data": {
      "text/plain": [
       "array([-0.71459141, -1.20689126, -0.76635957,  0.17092606,  2.51691619])"
      ]
     },
     "execution_count": 561,
     "metadata": {},
     "output_type": "execute_result"
    }
   ],
   "source": [
    "log_model.intercept_"
   ]
  },
  {
   "cell_type": "code",
   "execution_count": 562,
   "metadata": {},
   "outputs": [
    {
     "data": {
      "text/plain": [
       "array([[-0.00350681, -0.00260078, -0.00457184, ..., -0.01142956,\n",
       "        -0.00146088, -0.00146088],\n",
       "       [-0.00300911, -0.00296931, -0.0042866 , ..., -0.00894498,\n",
       "        -0.00163927, -0.00163927],\n",
       "       [-0.0056185 , -0.00638607, -0.00724023, ..., -0.0155156 ,\n",
       "        -0.00303457, -0.00303457],\n",
       "       [-0.01596775, -0.01107795, -0.01630552, ..., -0.06019869,\n",
       "        -0.02115143, -0.02115143],\n",
       "       [ 0.02810218,  0.02303412,  0.03240419, ...,  0.09608882,\n",
       "         0.02728616,  0.02728616]])"
      ]
     },
     "execution_count": 562,
     "metadata": {},
     "output_type": "execute_result"
    }
   ],
   "source": [
    "log_model.coef_"
   ]
  },
  {
   "cell_type": "code",
   "execution_count": 564,
   "metadata": {},
   "outputs": [
    {
     "data": {
      "text/plain": [
       "4.7533405561574575"
      ]
     },
     "execution_count": 564,
     "metadata": {},
     "output_type": "execute_result"
    }
   ],
   "source": [
    "#Checking overall rating of y test data\n",
    "y_train.mean()"
   ]
  },
  {
   "cell_type": "code",
   "execution_count": 565,
   "metadata": {},
   "outputs": [
    {
     "data": {
      "text/plain": [
       "4.989526905019863"
      ]
     },
     "execution_count": 565,
     "metadata": {},
     "output_type": "execute_result"
    }
   ],
   "source": [
    "#Comparing it to model\n",
    "series_y_pred.mean()"
   ]
  },
  {
   "cell_type": "code",
   "execution_count": null,
   "metadata": {},
   "outputs": [],
   "source": []
  }
 ],
 "metadata": {
  "kernelspec": {
   "display_name": "Python 3",
   "language": "python",
   "name": "python3"
  },
  "language_info": {
   "codemirror_mode": {
    "name": "ipython",
    "version": 3
   },
   "file_extension": ".py",
   "mimetype": "text/x-python",
   "name": "python",
   "nbconvert_exporter": "python",
   "pygments_lexer": "ipython3",
   "version": "3.8.5"
  }
 },
 "nbformat": 4,
 "nbformat_minor": 4
}
